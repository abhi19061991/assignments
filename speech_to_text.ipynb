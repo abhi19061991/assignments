{
 "cells": [
  {
   "cell_type": "code",
   "execution_count": 3,
   "metadata": {},
   "outputs": [
    {
     "name": "stdout",
     "output_type": "stream",
     "text": [
      "Collecting SpeechRecognition\n",
      "  Downloading SpeechRecognition-3.8.1-py2.py3-none-any.whl (32.8 MB)\n",
      "Installing collected packages: SpeechRecognition\n",
      "Successfully installed SpeechRecognition-3.8.1\n",
      "Note: you may need to restart the kernel to use updated packages.\n"
     ]
    }
   ],
   "source": [
    "pip install SpeechRecognition"
   ]
  },
  {
   "cell_type": "code",
   "execution_count": 5,
   "metadata": {},
   "outputs": [
    {
     "name": "stdout",
     "output_type": "stream",
     "text": [
      "Collecting package metadata (current_repodata.json): ...working... done\n",
      "Note: you may need to restart the kernel to use updated packages.\n",
      "Solving environment: ...working... done\n",
      "\n",
      "## Package Plan ##\n",
      "\n",
      "  environment location: C:\\ProgramData\\Anaconda3\n",
      "\n",
      "  added / updated specs:\n",
      "    - pyaudio\n",
      "\n",
      "\n",
      "The following packages will be downloaded:\n",
      "\n",
      "    package                    |            build\n",
      "    ---------------------------|-----------------\n",
      "    ca-certificates-2021.10.26 |       haa95532_4         116 KB\n",
      "    certifi-2021.10.8          |   py38haa95532_2         152 KB\n",
      "    openssl-1.1.1m             |       h2bbff1b_0         4.8 MB\n",
      "    portaudio-19.6.0           |       he774522_4         202 KB\n",
      "    pyaudio-0.2.11             |   py38he774522_2         206 KB\n",
      "    ------------------------------------------------------------\n",
      "                                           Total:         5.5 MB\n",
      "\n",
      "The following NEW packages will be INSTALLED:\n",
      "\n",
      "  portaudio          pkgs/main/win-64::portaudio-19.6.0-he774522_4\n",
      "  pyaudio            pkgs/main/win-64::pyaudio-0.2.11-py38he774522_2\n",
      "\n",
      "\n",
      "The following packages will be UPDATED:\n",
      "\n",
      "  ca-certificates    anaconda::ca-certificates-2020.10.14-0 --> pkgs/main::ca-certificates-2021.10.26-haa95532_4\n",
      "  certifi                anaconda::certifi-2020.6.20-py38_0 --> pkgs/main::certifi-2021.10.8-py38haa95532_2\n",
      "  openssl               anaconda::openssl-1.1.1h-he774522_0 --> pkgs/main::openssl-1.1.1m-h2bbff1b_0\n",
      "\n",
      "\n",
      "\n",
      "Downloading and Extracting Packages\n",
      "\n",
      "pyaudio-0.2.11       | 206 KB    |            |   0% \n",
      "pyaudio-0.2.11       | 206 KB    | 7          |   8% \n",
      "pyaudio-0.2.11       | 206 KB    | #####4     |  54% \n",
      "pyaudio-0.2.11       | 206 KB    | #########3 |  93% \n",
      "pyaudio-0.2.11       | 206 KB    | ########## | 100% \n",
      "\n",
      "certifi-2021.10.8    | 152 KB    |            |   0% \n",
      "certifi-2021.10.8    | 152 KB    | #          |  11% \n",
      "certifi-2021.10.8    | 152 KB    | ########## | 100% \n",
      "certifi-2021.10.8    | 152 KB    | ########## | 100% \n",
      "\n",
      "portaudio-19.6.0     | 202 KB    |            |   0% \n",
      "portaudio-19.6.0     | 202 KB    | 7          |   8% \n",
      "portaudio-19.6.0     | 202 KB    | ########## | 100% \n",
      "portaudio-19.6.0     | 202 KB    | ########## | 100% \n",
      "\n",
      "ca-certificates-2021 | 116 KB    |            |   0% \n",
      "ca-certificates-2021 | 116 KB    | #3         |  14% \n",
      "ca-certificates-2021 | 116 KB    | ########## | 100% \n",
      "ca-certificates-2021 | 116 KB    | ########## | 100% \n",
      "\n",
      "openssl-1.1.1m       | 4.8 MB    |            |   0% \n",
      "openssl-1.1.1m       | 4.8 MB    |            |   0% \n",
      "openssl-1.1.1m       | 4.8 MB    | 1          |   2% \n",
      "openssl-1.1.1m       | 4.8 MB    | 3          |   3% \n",
      "openssl-1.1.1m       | 4.8 MB    | 6          |   6% \n",
      "openssl-1.1.1m       | 4.8 MB    | 8          |   9% \n",
      "openssl-1.1.1m       | 4.8 MB    | #1         |  12% \n",
      "openssl-1.1.1m       | 4.8 MB    | #3         |  14% \n",
      "openssl-1.1.1m       | 4.8 MB    | #5         |  16% \n",
      "openssl-1.1.1m       | 4.8 MB    | #7         |  18% \n",
      "openssl-1.1.1m       | 4.8 MB    | #9         |  20% \n",
      "openssl-1.1.1m       | 4.8 MB    | ##1        |  21% \n",
      "openssl-1.1.1m       | 4.8 MB    | ##2        |  23% \n",
      "openssl-1.1.1m       | 4.8 MB    | ##4        |  25% \n",
      "openssl-1.1.1m       | 4.8 MB    | ##6        |  26% \n",
      "openssl-1.1.1m       | 4.8 MB    | ##8        |  28% \n",
      "openssl-1.1.1m       | 4.8 MB    | ###        |  30% \n",
      "openssl-1.1.1m       | 4.8 MB    | ###3       |  34% \n",
      "openssl-1.1.1m       | 4.8 MB    | ###5       |  36% \n",
      "openssl-1.1.1m       | 4.8 MB    | ###7       |  38% \n",
      "openssl-1.1.1m       | 4.8 MB    | ###9       |  39% \n",
      "openssl-1.1.1m       | 4.8 MB    | ####       |  41% \n",
      "openssl-1.1.1m       | 4.8 MB    | ####2      |  43% \n",
      "openssl-1.1.1m       | 4.8 MB    | ####4      |  45% \n",
      "openssl-1.1.1m       | 4.8 MB    | ####6      |  46% \n",
      "openssl-1.1.1m       | 4.8 MB    | ####7      |  48% \n",
      "openssl-1.1.1m       | 4.8 MB    | ####9      |  49% \n",
      "openssl-1.1.1m       | 4.8 MB    | #####      |  50% \n",
      "openssl-1.1.1m       | 4.8 MB    | #####1     |  52% \n",
      "openssl-1.1.1m       | 4.8 MB    | #####2     |  53% \n",
      "openssl-1.1.1m       | 4.8 MB    | #####4     |  54% \n",
      "openssl-1.1.1m       | 4.8 MB    | #####5     |  55% \n",
      "openssl-1.1.1m       | 4.8 MB    | #####6     |  57% \n",
      "openssl-1.1.1m       | 4.8 MB    | #####8     |  58% \n",
      "openssl-1.1.1m       | 4.8 MB    | #####9     |  59% \n",
      "openssl-1.1.1m       | 4.8 MB    | ######     |  61% \n",
      "openssl-1.1.1m       | 4.8 MB    | ######1    |  62% \n",
      "openssl-1.1.1m       | 4.8 MB    | ######2    |  63% \n",
      "openssl-1.1.1m       | 4.8 MB    | ######4    |  64% \n",
      "openssl-1.1.1m       | 4.8 MB    | ######5    |  65% \n",
      "openssl-1.1.1m       | 4.8 MB    | ######6    |  67% \n",
      "openssl-1.1.1m       | 4.8 MB    | ######7    |  68% \n",
      "openssl-1.1.1m       | 4.8 MB    | ######8    |  69% \n",
      "openssl-1.1.1m       | 4.8 MB    | ######9    |  70% \n",
      "openssl-1.1.1m       | 4.8 MB    | #######    |  71% \n",
      "openssl-1.1.1m       | 4.8 MB    | #######2   |  72% \n",
      "openssl-1.1.1m       | 4.8 MB    | #######4   |  74% \n",
      "openssl-1.1.1m       | 4.8 MB    | #######6   |  76% \n",
      "openssl-1.1.1m       | 4.8 MB    | #######8   |  78% \n",
      "openssl-1.1.1m       | 4.8 MB    | ########   |  81% \n",
      "openssl-1.1.1m       | 4.8 MB    | ########2  |  83% \n",
      "openssl-1.1.1m       | 4.8 MB    | ########4  |  85% \n",
      "openssl-1.1.1m       | 4.8 MB    | ########6  |  87% \n",
      "openssl-1.1.1m       | 4.8 MB    | ########8  |  89% \n",
      "openssl-1.1.1m       | 4.8 MB    | #########  |  91% \n",
      "openssl-1.1.1m       | 4.8 MB    | #########2 |  93% \n",
      "openssl-1.1.1m       | 4.8 MB    | #########7 |  97% \n",
      "openssl-1.1.1m       | 4.8 MB    | ########## | 100% \n",
      "openssl-1.1.1m       | 4.8 MB    | ########## | 100% \n",
      "Preparing transaction: ...working... done\n",
      "Verifying transaction: ...working... done\n",
      "Executing transaction: ...working... done\n"
     ]
    }
   ],
   "source": [
    "conda install pyaudio"
   ]
  },
  {
   "cell_type": "code",
   "execution_count": 6,
   "metadata": {},
   "outputs": [],
   "source": [
    "import speech_recognition as sr"
   ]
  },
  {
   "cell_type": "code",
   "execution_count": 7,
   "metadata": {},
   "outputs": [],
   "source": [
    "r=sr.Recognizer()"
   ]
  },
  {
   "cell_type": "code",
   "execution_count": 15,
   "metadata": {},
   "outputs": [
    {
     "name": "stdout",
     "output_type": "stream",
     "text": [
      "abe half of the great state of the nation and of Lincoln express my deepest gratitude to the invention because my presence on this page is provided and raised in a small village in Kenya his father my grandfather was studying your father my mother was born in a father worked on in France to move to the pressure at my grandfather signed up for 2 year back home my grandmother raise the baby and went to work on Obama assembly 1 study Ramji eyebrow and insert opportunity and had a dream it you can my parents should not only an improbable in the possible\n"
     ]
    }
   ],
   "source": [
    "with sr.AudioFile(\"C:\\\\Users\\\\lenovo\\\\Downloads\\\\obama.wav\") as source:\n",
    "    audio=r.listen(source)\n",
    "    try:\n",
    "        text=r.recognize_google(audio)\n",
    "        print(text)\n",
    "    except:\n",
    "        print(\"sorry,run again\")"
   ]
  },
  {
   "cell_type": "code",
   "execution_count": 1,
   "metadata": {},
   "outputs": [
    {
     "name": "stdout",
     "output_type": "stream",
     "text": [
      "Collecting librosa\n",
      "  Downloading librosa-0.9.1-py3-none-any.whl (213 kB)\n",
      "Collecting resampy>=0.2.2\n",
      "  Downloading resampy-0.2.2.tar.gz (323 kB)\n",
      "Requirement already satisfied: numpy>=1.17.0 in c:\\programdata\\anaconda3\\lib\\site-packages (from librosa) (1.22.2)\n",
      "Collecting audioread>=2.1.5\n",
      "  Downloading audioread-2.1.9.tar.gz (377 kB)\n",
      "Collecting pooch>=1.0\n",
      "  Downloading pooch-1.6.0-py3-none-any.whl (56 kB)\n",
      "Requirement already satisfied: decorator>=4.0.10 in c:\\programdata\\anaconda3\\lib\\site-packages (from librosa) (4.4.2)\n",
      "Collecting soundfile>=0.10.2\n",
      "  Downloading SoundFile-0.10.3.post1-py2.py3.cp26.cp27.cp32.cp33.cp34.cp35.cp36.pp27.pp32.pp33-none-win_amd64.whl (689 kB)\n",
      "Requirement already satisfied: scikit-learn>=0.19.1 in c:\\programdata\\anaconda3\\lib\\site-packages (from librosa) (0.23.2)\n",
      "Requirement already satisfied: joblib>=0.14 in c:\\programdata\\anaconda3\\lib\\site-packages (from librosa) (0.17.0)\n",
      "Requirement already satisfied: numba>=0.45.1 in c:\\programdata\\anaconda3\\lib\\site-packages (from librosa) (0.51.2)\n",
      "Requirement already satisfied: scipy>=1.2.0 in c:\\programdata\\anaconda3\\lib\\site-packages (from librosa) (1.5.2)\n",
      "Requirement already satisfied: packaging>=20.0 in c:\\programdata\\anaconda3\\lib\\site-packages (from librosa) (20.4)\n",
      "Requirement already satisfied: six>=1.3 in c:\\programdata\\anaconda3\\lib\\site-packages (from resampy>=0.2.2->librosa) (1.15.0)\n",
      "Requirement already satisfied: appdirs>=1.3.0 in c:\\users\\lenovo\\appdata\\roaming\\python\\python38\\site-packages (from pooch>=1.0->librosa) (1.4.4)\n",
      "Requirement already satisfied: requests>=2.19.0 in c:\\programdata\\anaconda3\\lib\\site-packages (from pooch>=1.0->librosa) (2.24.0)\n",
      "Requirement already satisfied: cffi>=1.0 in c:\\programdata\\anaconda3\\lib\\site-packages (from soundfile>=0.10.2->librosa) (1.14.3)\n",
      "Requirement already satisfied: threadpoolctl>=2.0.0 in c:\\programdata\\anaconda3\\lib\\site-packages (from scikit-learn>=0.19.1->librosa) (2.1.0)\n",
      "Requirement already satisfied: llvmlite<0.35,>=0.34.0.dev0 in c:\\programdata\\anaconda3\\lib\\site-packages (from numba>=0.45.1->librosa) (0.34.0)\n",
      "Requirement already satisfied: setuptools in c:\\programdata\\anaconda3\\lib\\site-packages (from numba>=0.45.1->librosa) (50.3.1.post20201107)\n",
      "Requirement already satisfied: pyparsing>=2.0.2 in c:\\programdata\\anaconda3\\lib\\site-packages (from packaging>=20.0->librosa) (2.4.7)\n",
      "Requirement already satisfied: urllib3!=1.25.0,!=1.25.1,<1.26,>=1.21.1 in c:\\programdata\\anaconda3\\lib\\site-packages (from requests>=2.19.0->pooch>=1.0->librosa) (1.25.11)\n",
      "Requirement already satisfied: chardet<4,>=3.0.2 in c:\\programdata\\anaconda3\\lib\\site-packages (from requests>=2.19.0->pooch>=1.0->librosa) (3.0.4)\n",
      "Requirement already satisfied: idna<3,>=2.5 in c:\\programdata\\anaconda3\\lib\\site-packages (from requests>=2.19.0->pooch>=1.0->librosa) (2.10)\n",
      "Requirement already satisfied: certifi>=2017.4.17 in c:\\programdata\\anaconda3\\lib\\site-packages (from requests>=2.19.0->pooch>=1.0->librosa) (2021.10.8)\n",
      "Requirement already satisfied: pycparser in c:\\programdata\\anaconda3\\lib\\site-packages (from cffi>=1.0->soundfile>=0.10.2->librosa) (2.20)\n",
      "Building wheels for collected packages: resampy, audioread\n",
      "  Building wheel for resampy (setup.py): started\n",
      "  Building wheel for resampy (setup.py): finished with status 'done'\n",
      "  Created wheel for resampy: filename=resampy-0.2.2-py3-none-any.whl size=320724 sha256=7cb86f141756ef648b39e18c375b3e2b49ba12f7b2946601986f1f4d8040f4e6\n",
      "  Stored in directory: c:\\users\\lenovo\\appdata\\local\\pip\\cache\\wheels\\6f\\d1\\5d\\f13da53b1dcbc2624ff548456c9ffb526c914f53c12c318bb4\n",
      "  Building wheel for audioread (setup.py): started\n",
      "  Building wheel for audioread (setup.py): finished with status 'done'\n",
      "  Created wheel for audioread: filename=audioread-2.1.9-py3-none-any.whl size=23146 sha256=57093fbff2756e5a33106a27a4cdab7f2e73cd04f6c28dd1c365e3b2ddae7211\n",
      "  Stored in directory: c:\\users\\lenovo\\appdata\\local\\pip\\cache\\wheels\\49\\5a\\e4\\df590783499a992a88de6c0898991d1167453a3196d0d1eeb7\n",
      "Successfully built resampy audioread\n",
      "Installing collected packages: resampy, audioread, pooch, soundfile, librosa\n",
      "Successfully installed audioread-2.1.9 librosa-0.9.1 pooch-1.6.0 resampy-0.2.2 soundfile-0.10.3.post1\n",
      "Note: you may need to restart the kernel to use updated packages.\n"
     ]
    }
   ],
   "source": [
    "pip install librosa"
   ]
  },
  {
   "cell_type": "code",
   "execution_count": 1,
   "metadata": {},
   "outputs": [],
   "source": [
    "import librosa"
   ]
  },
  {
   "cell_type": "code",
   "execution_count": 3,
   "metadata": {},
   "outputs": [],
   "source": [
    "import matplotlib.pyplot as plt\n",
    "%matplotlib inline"
   ]
  },
  {
   "cell_type": "code",
   "execution_count": 3,
   "metadata": {},
   "outputs": [
    {
     "ename": "ModuleNotFoundError",
     "evalue": "No module named 'Ipython'",
     "output_type": "error",
     "traceback": [
      "\u001b[1;31m---------------------------------------------------------------------------\u001b[0m",
      "\u001b[1;31mModuleNotFoundError\u001b[0m                       Traceback (most recent call last)",
      "\u001b[1;32m<ipython-input-3-3af8c2adf1e4>\u001b[0m in \u001b[0;36m<module>\u001b[1;34m\u001b[0m\n\u001b[1;32m----> 1\u001b[1;33m \u001b[1;32mimport\u001b[0m \u001b[0mIpython\u001b[0m\u001b[1;33m\u001b[0m\u001b[1;33m\u001b[0m\u001b[0m\n\u001b[0m",
      "\u001b[1;31mModuleNotFoundError\u001b[0m: No module named 'Ipython'"
     ]
    }
   ],
   "source": [
    "import Ipython"
   ]
  },
  {
   "cell_type": "code",
   "execution_count": null,
   "metadata": {},
   "outputs": [],
   "source": []
  },
  {
   "cell_type": "code",
   "execution_count": null,
   "metadata": {},
   "outputs": [],
   "source": []
  },
  {
   "cell_type": "code",
   "execution_count": null,
   "metadata": {},
   "outputs": [],
   "source": []
  },
  {
   "cell_type": "code",
   "execution_count": null,
   "metadata": {},
   "outputs": [],
   "source": []
  },
  {
   "cell_type": "code",
   "execution_count": null,
   "metadata": {},
   "outputs": [],
   "source": []
  },
  {
   "cell_type": "code",
   "execution_count": null,
   "metadata": {},
   "outputs": [],
   "source": []
  },
  {
   "cell_type": "code",
   "execution_count": null,
   "metadata": {},
   "outputs": [],
   "source": []
  },
  {
   "cell_type": "code",
   "execution_count": null,
   "metadata": {},
   "outputs": [],
   "source": []
  }
 ],
 "metadata": {
  "kernelspec": {
   "display_name": "Python 3",
   "language": "python",
   "name": "python3"
  },
  "language_info": {
   "codemirror_mode": {
    "name": "ipython",
    "version": 3
   },
   "file_extension": ".py",
   "mimetype": "text/x-python",
   "name": "python",
   "nbconvert_exporter": "python",
   "pygments_lexer": "ipython3",
   "version": "3.8.5"
  }
 },
 "nbformat": 4,
 "nbformat_minor": 4
}
